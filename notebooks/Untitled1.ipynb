{
 "metadata": {
  "name": "",
  "signature": "sha256:586eb9b21249ba98f03f1b96284cf3d9266d903bfaf4d90fd347481ca17d84e1"
 },
 "nbformat": 3,
 "nbformat_minor": 0,
 "worksheets": [
  {
   "cells": [
    {
     "cell_type": "code",
     "collapsed": false,
     "input": [
      "# Enter your code here. Read input from STDIN. Print output to STDOUT\n",
      "from itertools import combinations\n",
      "import sys\n",
      "#N,l = map(int,raw_input().split())\n",
      "\n",
      "#rl = open('test.txt','r').readlines()\n",
      "rl = ['2 1', '0 1']\n",
      "\n",
      "N,l = map(int,rl[0].split())\n",
      "\n",
      "# sys.setrecursionlimit(N)\n",
      "# print N,l\n",
      "# graph = {}\n",
      "# for r_ in rl[1:]:\n",
      "#     #a,b = map(int,raw_input().split())\n",
      "#     a,b = map(int, r_.split())\n",
      "    \n",
      "#     if a in graph:\n",
      "#         graph[a].append(b)\n",
      "#     else:\n",
      "#         graph[a] = [b]\n",
      "        \n",
      "#     if b in graph:\n",
      "#         graph[b].append(a)\n",
      "#     else:\n",
      "#         graph[b] = [a]\n",
      "\n",
      "# seen = [-1]*N\n",
      "# def traverse(ind, group):\n",
      "#     seen[ind] = group\n",
      "#     #print seen.count(-1)\n",
      "#     for a in graph[ind]:\n",
      "#         if seen[a] < 0:  \n",
      "#             #print a, group\n",
      "#             traverse(a, group)\n",
      "        \n",
      "# subgraph_ind = [-1]*N\n",
      "\n",
      "# group_start = 0\n",
      "# group_count = []\n",
      "\n",
      "# #while seen.count(-1):\n",
      "# for k in graph.keys():\n",
      "#     #ind = seen.index(-1)\n",
      "#     if seen[k] > -1:\n",
      "#         continue\n",
      "#     traverse(k, group_start)\n",
      "#     group_count.append(seen.count(group_start))\n",
      "#     group_start += 1\n",
      "    \n",
      "# count = sum([a*b for a,b in combinations(group_count, 2)])\n",
      "# other = seen.count(-1)\n",
      "# if other:\n",
      "#     count += other*(other-1)/2\n",
      "#     for c in group_count:\n",
      "#         count += other*c\n",
      "        \n",
      "# print count"
     ],
     "language": "python",
     "metadata": {},
     "outputs": []
    },
    {
     "cell_type": "code",
     "collapsed": false,
     "input": [
      "import re\n",
      "domains = re.compile(r\"\"\"\n",
      "    (\\w+)(?:\\.\\w{2,3})+ # Split on whitespace between sentences.\n",
      "    \"\"\", \n",
      "    re.IGNORECASE | re.VERBOSE)"
     ],
     "language": "python",
     "metadata": {},
     "outputs": [],
     "prompt_number": 6
    },
    {
     "cell_type": "code",
     "collapsed": false,
     "input": [
      "domains.match('economist.com').groups()[0]"
     ],
     "language": "python",
     "metadata": {},
     "outputs": [
      {
       "metadata": {},
       "output_type": "pyout",
       "prompt_number": 10,
       "text": [
        "'economist'"
       ]
      }
     ],
     "prompt_number": 10
    },
    {
     "cell_type": "code",
     "collapsed": false,
     "input": [
      "a = list('abc')"
     ],
     "language": "python",
     "metadata": {},
     "outputs": [],
     "prompt_number": 13
    },
    {
     "cell_type": "code",
     "collapsed": false,
     "input": [
      "a.pop()"
     ],
     "language": "python",
     "metadata": {},
     "outputs": [
      {
       "metadata": {},
       "output_type": "pyout",
       "prompt_number": 14,
       "text": [
        "'c'"
       ]
      }
     ],
     "prompt_number": 14
    },
    {
     "cell_type": "code",
     "collapsed": false,
     "input": [
      "a"
     ],
     "language": "python",
     "metadata": {},
     "outputs": [
      {
       "metadata": {},
       "output_type": "pyout",
       "prompt_number": 15,
       "text": [
        "['a', 'b']"
       ]
      }
     ],
     "prompt_number": 15
    },
    {
     "cell_type": "code",
     "collapsed": false,
     "input": [
      "a.remove?"
     ],
     "language": "python",
     "metadata": {},
     "outputs": [],
     "prompt_number": 16
    },
    {
     "cell_type": "code",
     "collapsed": false,
     "input": [
      "3/2"
     ],
     "language": "python",
     "metadata": {},
     "outputs": [
      {
       "metadata": {},
       "output_type": "pyout",
       "prompt_number": 17,
       "text": [
        "1"
       ]
      }
     ],
     "prompt_number": 17
    },
    {
     "cell_type": "code",
     "collapsed": false,
     "input": [
      "5/2"
     ],
     "language": "python",
     "metadata": {},
     "outputs": [
      {
       "metadata": {},
       "output_type": "pyout",
       "prompt_number": 18,
       "text": [
        "2"
       ]
      }
     ],
     "prompt_number": 18
    },
    {
     "cell_type": "code",
     "collapsed": false,
     "input": [
      "a = ['a','a','b','a','a']"
     ],
     "language": "python",
     "metadata": {},
     "outputs": [],
     "prompt_number": 24
    },
    {
     "cell_type": "code",
     "collapsed": false,
     "input": [
      "a.index('a')"
     ],
     "language": "python",
     "metadata": {},
     "outputs": [
      {
       "metadata": {},
       "output_type": "pyout",
       "prompt_number": 25,
       "text": [
        "0"
       ]
      }
     ],
     "prompt_number": 25
    },
    {
     "cell_type": "code",
     "collapsed": false,
     "input": [
      "a"
     ],
     "language": "python",
     "metadata": {},
     "outputs": [
      {
       "metadata": {},
       "output_type": "pyout",
       "prompt_number": 21,
       "text": [
        "['a', 'b']"
       ]
      }
     ],
     "prompt_number": 21
    },
    {
     "cell_type": "code",
     "collapsed": false,
     "input": [],
     "language": "python",
     "metadata": {},
     "outputs": []
    }
   ],
   "metadata": {}
  }
 ]
}